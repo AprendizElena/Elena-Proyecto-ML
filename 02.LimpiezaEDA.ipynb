{
 "cells": [
  {
   "cell_type": "code",
   "execution_count": 2,
   "metadata": {},
   "outputs": [],
   "source": [
    "import pandas as pd "
   ]
  },
  {
   "cell_type": "code",
   "execution_count": 3,
   "metadata": {},
   "outputs": [
    {
     "data": {
      "text/html": [
       "<div>\n",
       "<style scoped>\n",
       "    .dataframe tbody tr th:only-of-type {\n",
       "        vertical-align: middle;\n",
       "    }\n",
       "\n",
       "    .dataframe tbody tr th {\n",
       "        vertical-align: top;\n",
       "    }\n",
       "\n",
       "    .dataframe thead th {\n",
       "        text-align: right;\n",
       "    }\n",
       "</style>\n",
       "<table border=\"1\" class=\"dataframe\">\n",
       "  <thead>\n",
       "    <tr style=\"text-align: right;\">\n",
       "      <th></th>\n",
       "      <th>id</th>\n",
       "      <th>full_name</th>\n",
       "      <th>age</th>\n",
       "      <th>gender</th>\n",
       "      <th>model</th>\n",
       "      <th>color</th>\n",
       "      <th>performance</th>\n",
       "      <th>km</th>\n",
       "      <th>condition</th>\n",
       "      <th>price</th>\n",
       "    </tr>\n",
       "  </thead>\n",
       "  <tbody>\n",
       "    <tr>\n",
       "      <th>0</th>\n",
       "      <td>1</td>\n",
       "      <td>Dominic Applin</td>\n",
       "      <td>42.0</td>\n",
       "      <td>Male</td>\n",
       "      <td>Quest</td>\n",
       "      <td>Mauv</td>\n",
       "      <td>299.0</td>\n",
       "      <td>509305.0</td>\n",
       "      <td>very bad</td>\n",
       "      <td>40394.91</td>\n",
       "    </tr>\n",
       "    <tr>\n",
       "      <th>1</th>\n",
       "      <td>2</td>\n",
       "      <td>Lenee Eteen</td>\n",
       "      <td>54.0</td>\n",
       "      <td>Polygender</td>\n",
       "      <td>R'nessa</td>\n",
       "      <td>Orange</td>\n",
       "      <td>109.0</td>\n",
       "      <td>965853.0</td>\n",
       "      <td>old</td>\n",
       "      <td>8687.90</td>\n",
       "    </tr>\n",
       "    <tr>\n",
       "      <th>2</th>\n",
       "      <td>3</td>\n",
       "      <td>Kendal Esselin</td>\n",
       "      <td>37.0</td>\n",
       "      <td>Male</td>\n",
       "      <td>March / Micra</td>\n",
       "      <td>Teal</td>\n",
       "      <td>52.0</td>\n",
       "      <td>380906.0</td>\n",
       "      <td>bad</td>\n",
       "      <td>44705.31</td>\n",
       "    </tr>\n",
       "    <tr>\n",
       "      <th>3</th>\n",
       "      <td>4</td>\n",
       "      <td>Nehemiah Marvelley</td>\n",
       "      <td>55.0</td>\n",
       "      <td>Male</td>\n",
       "      <td>Gloria</td>\n",
       "      <td>Green</td>\n",
       "      <td>336.0</td>\n",
       "      <td>573171.0</td>\n",
       "      <td>very good</td>\n",
       "      <td>32889.88</td>\n",
       "    </tr>\n",
       "    <tr>\n",
       "      <th>4</th>\n",
       "      <td>5</td>\n",
       "      <td>Domenic McGeouch</td>\n",
       "      <td>21.0</td>\n",
       "      <td>Male</td>\n",
       "      <td>Avenir</td>\n",
       "      <td>Khaki</td>\n",
       "      <td>2.0</td>\n",
       "      <td>809470.0</td>\n",
       "      <td>old</td>\n",
       "      <td>6949.22</td>\n",
       "    </tr>\n",
       "    <tr>\n",
       "      <th>...</th>\n",
       "      <td>...</td>\n",
       "      <td>...</td>\n",
       "      <td>...</td>\n",
       "      <td>...</td>\n",
       "      <td>...</td>\n",
       "      <td>...</td>\n",
       "      <td>...</td>\n",
       "      <td>...</td>\n",
       "      <td>...</td>\n",
       "      <td>...</td>\n",
       "    </tr>\n",
       "    <tr>\n",
       "      <th>9995</th>\n",
       "      <td>9996</td>\n",
       "      <td>Mike Wilson</td>\n",
       "      <td>63.0</td>\n",
       "      <td>Polygender</td>\n",
       "      <td>Juke</td>\n",
       "      <td>Yellow</td>\n",
       "      <td>339.0</td>\n",
       "      <td>715741.0</td>\n",
       "      <td>new</td>\n",
       "      <td>19710.18</td>\n",
       "    </tr>\n",
       "    <tr>\n",
       "      <th>9996</th>\n",
       "      <td>9997</td>\n",
       "      <td>Katie Wilson</td>\n",
       "      <td>45.0</td>\n",
       "      <td>Female</td>\n",
       "      <td>Maxima</td>\n",
       "      <td>Gray</td>\n",
       "      <td>81.0</td>\n",
       "      <td>786768.0</td>\n",
       "      <td>bad</td>\n",
       "      <td>47797.76</td>\n",
       "    </tr>\n",
       "    <tr>\n",
       "      <th>9997</th>\n",
       "      <td>9998</td>\n",
       "      <td>Jane Davis</td>\n",
       "      <td>27.0</td>\n",
       "      <td>Female</td>\n",
       "      <td>Leaf</td>\n",
       "      <td>Yellow</td>\n",
       "      <td>130.0</td>\n",
       "      <td>99170.0</td>\n",
       "      <td>very bad</td>\n",
       "      <td>35058.91</td>\n",
       "    </tr>\n",
       "    <tr>\n",
       "      <th>9998</th>\n",
       "      <td>9999</td>\n",
       "      <td>Katie Smith</td>\n",
       "      <td>68.0</td>\n",
       "      <td>Male</td>\n",
       "      <td>March / Micra</td>\n",
       "      <td>Green</td>\n",
       "      <td>215.0</td>\n",
       "      <td>640764.0</td>\n",
       "      <td>old</td>\n",
       "      <td>21176.71</td>\n",
       "    </tr>\n",
       "    <tr>\n",
       "      <th>9999</th>\n",
       "      <td>10000</td>\n",
       "      <td>Katie Smith</td>\n",
       "      <td>69.0</td>\n",
       "      <td>Male</td>\n",
       "      <td>March / Micra</td>\n",
       "      <td>Green</td>\n",
       "      <td>215.0</td>\n",
       "      <td>640764.0</td>\n",
       "      <td>old</td>\n",
       "      <td>21177.71</td>\n",
       "    </tr>\n",
       "  </tbody>\n",
       "</table>\n",
       "<p>10000 rows × 10 columns</p>\n",
       "</div>"
      ],
      "text/plain": [
       "         id           full_name   age      gender          model   color  \\\n",
       "0         1      Dominic Applin  42.0        Male          Quest    Mauv   \n",
       "1         2         Lenee Eteen  54.0  Polygender        R'nessa  Orange   \n",
       "2         3      Kendal Esselin  37.0        Male  March / Micra    Teal   \n",
       "3         4  Nehemiah Marvelley  55.0        Male         Gloria   Green   \n",
       "4         5    Domenic McGeouch  21.0        Male         Avenir   Khaki   \n",
       "...     ...                 ...   ...         ...            ...     ...   \n",
       "9995   9996         Mike Wilson  63.0  Polygender           Juke  Yellow   \n",
       "9996   9997        Katie Wilson  45.0      Female         Maxima    Gray   \n",
       "9997   9998          Jane Davis  27.0      Female           Leaf  Yellow   \n",
       "9998   9999         Katie Smith  68.0        Male  March / Micra   Green   \n",
       "9999  10000         Katie Smith  69.0        Male  March / Micra   Green   \n",
       "\n",
       "      performance        km  condition     price  \n",
       "0           299.0  509305.0   very bad  40394.91  \n",
       "1           109.0  965853.0        old   8687.90  \n",
       "2            52.0  380906.0        bad  44705.31  \n",
       "3           336.0  573171.0  very good  32889.88  \n",
       "4             2.0  809470.0        old   6949.22  \n",
       "...           ...       ...        ...       ...  \n",
       "9995        339.0  715741.0        new  19710.18  \n",
       "9996         81.0  786768.0        bad  47797.76  \n",
       "9997        130.0   99170.0   very bad  35058.91  \n",
       "9998        215.0  640764.0        old  21176.71  \n",
       "9999        215.0  640764.0        old  21177.71  \n",
       "\n",
       "[10000 rows x 10 columns]"
      ]
     },
     "execution_count": 3,
     "metadata": {},
     "output_type": "execute_result"
    }
   ],
   "source": [
    "#importamos el dataframe \n",
    "data=pd.read_csv(\"nissan-dataset.csv\")\n",
    "data "
   ]
  },
  {
   "cell_type": "code",
   "execution_count": 4,
   "metadata": {},
   "outputs": [
    {
     "data": {
      "text/plain": [
       "(10000, 10)"
      ]
     },
     "execution_count": 4,
     "metadata": {},
     "output_type": "execute_result"
    }
   ],
   "source": [
    "#analizamos y limpiamos los datos \n",
    "data.shape"
   ]
  },
  {
   "cell_type": "code",
   "execution_count": 5,
   "metadata": {},
   "outputs": [
    {
     "name": "stdout",
     "output_type": "stream",
     "text": [
      "<class 'pandas.core.frame.DataFrame'>\n",
      "RangeIndex: 10000 entries, 0 to 9999\n",
      "Data columns (total 10 columns):\n",
      " #   Column       Non-Null Count  Dtype  \n",
      "---  ------       --------------  -----  \n",
      " 0   id           10000 non-null  int64  \n",
      " 1   full_name    9157 non-null   object \n",
      " 2   age          9154 non-null   float64\n",
      " 3   gender       9144 non-null   object \n",
      " 4   model        9130 non-null   object \n",
      " 5   color        9139 non-null   object \n",
      " 6   performance  9143 non-null   float64\n",
      " 7   km           9141 non-null   float64\n",
      " 8   condition    9151 non-null   object \n",
      " 9   price        9159 non-null   float64\n",
      "dtypes: float64(4), int64(1), object(5)\n",
      "memory usage: 781.4+ KB\n"
     ]
    }
   ],
   "source": [
    "data.info()"
   ]
  },
  {
   "cell_type": "code",
   "execution_count": 6,
   "metadata": {},
   "outputs": [
    {
     "data": {
      "text/plain": [
       "id               0\n",
       "full_name      843\n",
       "age            846\n",
       "gender         856\n",
       "model          870\n",
       "color          861\n",
       "performance    857\n",
       "km             859\n",
       "condition      849\n",
       "price          841\n",
       "dtype: int64"
      ]
     },
     "execution_count": 6,
     "metadata": {},
     "output_type": "execute_result"
    }
   ],
   "source": [
    "#miramos los datos faltantes\n",
    "data.isna().sum()"
   ]
  },
  {
   "cell_type": "code",
   "execution_count": 7,
   "metadata": {},
   "outputs": [
    {
     "data": {
      "text/plain": [
       "<Axes: title={'center': 'Age Column'}, ylabel='Frequency'>"
      ]
     },
     "execution_count": 7,
     "metadata": {},
     "output_type": "execute_result"
    },
    {
     "data": {
      "image/png": "[encoded data removed]",
      "text/plain": [
       "<Figure size 640x480 with 1 Axes>"
      ]
     },
     "metadata": {},
     "output_type": "display_data"
    }
   ],
   "source": [
    "#tenemos que rellenar los nulos de algunas columnas \n",
    "#visualización de la edad según la frequencia\n",
    "data['age'].plot(kind='hist', title='Age Column')"
   ]
  },
  {
   "cell_type": "code",
   "execution_count": 8,
   "metadata": {},
   "outputs": [],
   "source": [
    "data['age'].fillna(data['age'].mean(), inplace=True)"
   ]
  },
  {
   "cell_type": "code",
   "execution_count": 9,
   "metadata": {},
   "outputs": [
    {
     "data": {
      "text/plain": [
       "<Axes: title={'center': 'Performance Column'}, ylabel='Frequency'>"
      ]
     },
     "execution_count": 9,
     "metadata": {},
     "output_type": "execute_result"
    },
    {
     "data": {
      "image/png": "[encoded data removed]",
      "text/plain": [
       "<Figure size 640x480 with 1 Axes>"
      ]
     },
     "metadata": {},
     "output_type": "display_data"
    }
   ],
   "source": [
    "#visualización de la columna del potencial del coche según la frequencia \n",
    "data['performance'].plot(kind='hist', title='Performance Column')"
   ]
  },
  {
   "cell_type": "code",
   "execution_count": 9,
   "metadata": {},
   "outputs": [
    {
     "name": "stderr",
     "output_type": "stream",
     "text": [
      "C:\\Users\\elicr\\AppData\\Local\\Temp\\ipykernel_5176\\1886755271.py:1: FutureWarning: A value is trying to be set on a copy of a DataFrame or Series through chained assignment using an inplace method.\n",
      "The behavior will change in pandas 3.0. This inplace method will never work because the intermediate object on which we are setting values always behaves as a copy.\n",
      "\n",
      "For example, when doing 'df[col].method(value, inplace=True)', try using 'df.method({col: value}, inplace=True)' or df[col] = df[col].method(value) instead, to perform the operation inplace on the original object.\n",
      "\n",
      "\n",
      "  data['performance'].fillna(data['performance'].mean(), inplace=True)\n"
     ]
    }
   ],
   "source": [
    "data['performance'].fillna(data['performance'].mean(), inplace=True)"
   ]
  },
  {
   "cell_type": "code",
   "execution_count": 11,
   "metadata": {},
   "outputs": [
    {
     "data": {
      "text/plain": [
       "<Axes: title={'center': 'km Column'}, ylabel='Frequency'>"
      ]
     },
     "execution_count": 11,
     "metadata": {},
     "output_type": "execute_result"
    },
    {
     "data": {
      "image/png": "[encoded data removed]",
      "text/plain": [
       "<Figure size 640x480 with 1 Axes>"
      ]
     },
     "metadata": {},
     "output_type": "display_data"
    }
   ],
   "source": [
    "#visualización de la columna km totales de conduccion de cada coche según la frequencia\n",
    "data['km'].plot(kind='hist', title='km Column')"
   ]
  },
  {
   "cell_type": "code",
   "execution_count": 12,
   "metadata": {},
   "outputs": [],
   "source": [
    "data['km'].fillna(data['km'].mean(), inplace=True)"
   ]
  },
  {
   "cell_type": "code",
   "execution_count": 13,
   "metadata": {},
   "outputs": [
    {
     "data": {
      "text/plain": [
       "id               0\n",
       "full_name      843\n",
       "age              0\n",
       "gender         856\n",
       "model          870\n",
       "color          861\n",
       "performance      0\n",
       "km               0\n",
       "condition      849\n",
       "price          841\n",
       "dtype: int64"
      ]
     },
     "execution_count": 13,
     "metadata": {},
     "output_type": "execute_result"
    }
   ],
   "source": [
    "data.isna().sum()"
   ]
  },
  {
   "cell_type": "code",
   "execution_count": 14,
   "metadata": {},
   "outputs": [],
   "source": [
    "data.dropna(inplace=True)"
   ]
  },
  {
   "cell_type": "code",
   "execution_count": 15,
   "metadata": {},
   "outputs": [
    {
     "data": {
      "text/plain": [
       "id             0\n",
       "full_name      0\n",
       "age            0\n",
       "gender         0\n",
       "model          0\n",
       "color          0\n",
       "performance    0\n",
       "km             0\n",
       "condition      0\n",
       "price          0\n",
       "dtype: int64"
      ]
     },
     "execution_count": 15,
     "metadata": {},
     "output_type": "execute_result"
    }
   ],
   "source": [
    "#verificamos que el dataset este libre de nulos \n",
    "data.isna().sum()"
   ]
  },
  {
   "cell_type": "code",
   "execution_count": 16,
   "metadata": {},
   "outputs": [
    {
     "data": {
      "text/plain": [
       "(9090, 10)"
      ]
     },
     "execution_count": 16,
     "metadata": {},
     "output_type": "execute_result"
    }
   ],
   "source": [
    "data.shape"
   ]
  },
  {
   "cell_type": "code",
   "execution_count": 17,
   "metadata": {},
   "outputs": [
    {
     "data": {
      "text/plain": [
       "Index(['id', 'full_name', 'age', 'gender', 'model', 'color', 'performance',\n",
       "       'km', 'condition', 'price'],\n",
       "      dtype='object')"
      ]
     },
     "execution_count": 17,
     "metadata": {},
     "output_type": "execute_result"
    }
   ],
   "source": [
    "data.columns"
   ]
  },
  {
   "cell_type": "code",
   "execution_count": 18,
   "metadata": {},
   "outputs": [],
   "source": [
    "data.drop(['id', 'full_name'], axis=1, inplace=True)"
   ]
  },
  {
   "cell_type": "code",
   "execution_count": 19,
   "metadata": {},
   "outputs": [
    {
     "data": {
      "text/plain": [
       "(9090, 8)"
      ]
     },
     "execution_count": 19,
     "metadata": {},
     "output_type": "execute_result"
    }
   ],
   "source": [
    "data.shape"
   ]
  },
  {
   "cell_type": "code",
   "execution_count": 20,
   "metadata": {},
   "outputs": [
    {
     "data": {
      "text/html": [
       "<div>\n",
       "<style scoped>\n",
       "    .dataframe tbody tr th:only-of-type {\n",
       "        vertical-align: middle;\n",
       "    }\n",
       "\n",
       "    .dataframe tbody tr th {\n",
       "        vertical-align: top;\n",
       "    }\n",
       "\n",
       "    .dataframe thead th {\n",
       "        text-align: right;\n",
       "    }\n",
       "</style>\n",
       "<table border=\"1\" class=\"dataframe\">\n",
       "  <thead>\n",
       "    <tr style=\"text-align: right;\">\n",
       "      <th></th>\n",
       "      <th>age</th>\n",
       "      <th>gender</th>\n",
       "      <th>model</th>\n",
       "      <th>color</th>\n",
       "      <th>performance</th>\n",
       "      <th>km</th>\n",
       "      <th>condition</th>\n",
       "      <th>price</th>\n",
       "    </tr>\n",
       "  </thead>\n",
       "  <tbody>\n",
       "    <tr>\n",
       "      <th>0</th>\n",
       "      <td>42.0</td>\n",
       "      <td>Male</td>\n",
       "      <td>Quest</td>\n",
       "      <td>Mauv</td>\n",
       "      <td>299.0</td>\n",
       "      <td>509305.0</td>\n",
       "      <td>very bad</td>\n",
       "      <td>40394.91</td>\n",
       "    </tr>\n",
       "    <tr>\n",
       "      <th>1</th>\n",
       "      <td>54.0</td>\n",
       "      <td>Polygender</td>\n",
       "      <td>R'nessa</td>\n",
       "      <td>Orange</td>\n",
       "      <td>109.0</td>\n",
       "      <td>965853.0</td>\n",
       "      <td>old</td>\n",
       "      <td>8687.90</td>\n",
       "    </tr>\n",
       "    <tr>\n",
       "      <th>2</th>\n",
       "      <td>37.0</td>\n",
       "      <td>Male</td>\n",
       "      <td>March / Micra</td>\n",
       "      <td>Teal</td>\n",
       "      <td>52.0</td>\n",
       "      <td>380906.0</td>\n",
       "      <td>bad</td>\n",
       "      <td>44705.31</td>\n",
       "    </tr>\n",
       "    <tr>\n",
       "      <th>3</th>\n",
       "      <td>55.0</td>\n",
       "      <td>Male</td>\n",
       "      <td>Gloria</td>\n",
       "      <td>Green</td>\n",
       "      <td>336.0</td>\n",
       "      <td>573171.0</td>\n",
       "      <td>very good</td>\n",
       "      <td>32889.88</td>\n",
       "    </tr>\n",
       "    <tr>\n",
       "      <th>4</th>\n",
       "      <td>21.0</td>\n",
       "      <td>Male</td>\n",
       "      <td>Avenir</td>\n",
       "      <td>Khaki</td>\n",
       "      <td>2.0</td>\n",
       "      <td>809470.0</td>\n",
       "      <td>old</td>\n",
       "      <td>6949.22</td>\n",
       "    </tr>\n",
       "  </tbody>\n",
       "</table>\n",
       "</div>"
      ],
      "text/plain": [
       "    age      gender          model   color  performance        km  condition  \\\n",
       "0  42.0        Male          Quest    Mauv        299.0  509305.0   very bad   \n",
       "1  54.0  Polygender        R'nessa  Orange        109.0  965853.0        old   \n",
       "2  37.0        Male  March / Micra    Teal         52.0  380906.0        bad   \n",
       "3  55.0        Male         Gloria   Green        336.0  573171.0  very good   \n",
       "4  21.0        Male         Avenir   Khaki          2.0  809470.0        old   \n",
       "\n",
       "      price  \n",
       "0  40394.91  \n",
       "1   8687.90  \n",
       "2  44705.31  \n",
       "3  32889.88  \n",
       "4   6949.22  "
      ]
     },
     "execution_count": 20,
     "metadata": {},
     "output_type": "execute_result"
    }
   ],
   "source": [
    "#nos centramos solo en unos pocos ejemplos \n",
    "data.head()"
   ]
  },
  {
   "cell_type": "code",
   "execution_count": 21,
   "metadata": {},
   "outputs": [
    {
     "name": "stdout",
     "output_type": "stream",
     "text": [
      "Unique Values in color column:  23\n",
      "Unique Values in gender column:  8\n",
      "Unique Values in model column:  70\n",
      "Unique Values in condition column:  6\n"
     ]
    }
   ],
   "source": [
    "#sacamos los valores únicos de cada columna \n",
    "print(\"Unique Values in color column: \", data['color'].nunique())\n",
    "print(\"Unique Values in gender column: \", data['gender'].nunique())\n",
    "print(\"Unique Values in model column: \", data['model'].nunique())\n",
    "print(\"Unique Values in condition column: \", data['condition'].nunique())"
   ]
  },
  {
   "cell_type": "code",
   "execution_count": 22,
   "metadata": {},
   "outputs": [
    {
     "data": {
      "text/plain": [
       "array(['Male', 'Polygender', 'Genderqueer', 'Female', 'Genderfluid',\n",
       "       'Agender', 'Bigender', 'Non-binary'], dtype=object)"
      ]
     },
     "execution_count": 22,
     "metadata": {},
     "output_type": "execute_result"
    }
   ],
   "source": [
    "data['gender'].unique()"
   ]
  },
  {
   "cell_type": "code",
   "execution_count": 23,
   "metadata": {},
   "outputs": [
    {
     "data": {
      "text/html": [
       "<div>\n",
       "<style scoped>\n",
       "    .dataframe tbody tr th:only-of-type {\n",
       "        vertical-align: middle;\n",
       "    }\n",
       "\n",
       "    .dataframe tbody tr th {\n",
       "        vertical-align: top;\n",
       "    }\n",
       "\n",
       "    .dataframe thead th {\n",
       "        text-align: right;\n",
       "    }\n",
       "</style>\n",
       "<table border=\"1\" class=\"dataframe\">\n",
       "  <thead>\n",
       "    <tr style=\"text-align: right;\">\n",
       "      <th></th>\n",
       "      <th>age</th>\n",
       "      <th>performance</th>\n",
       "      <th>km</th>\n",
       "      <th>price</th>\n",
       "      <th>color_Aquamarine</th>\n",
       "      <th>color_Black</th>\n",
       "      <th>color_Blue</th>\n",
       "      <th>color_Crimson</th>\n",
       "      <th>color_Fuscia</th>\n",
       "      <th>color_Goldenrod</th>\n",
       "      <th>...</th>\n",
       "      <th>model_Versa</th>\n",
       "      <th>model_Wingroad</th>\n",
       "      <th>model_X-Trail</th>\n",
       "      <th>model_Xterra</th>\n",
       "      <th>condition_bad</th>\n",
       "      <th>condition_good</th>\n",
       "      <th>condition_new</th>\n",
       "      <th>condition_old</th>\n",
       "      <th>condition_very bad</th>\n",
       "      <th>condition_very good</th>\n",
       "    </tr>\n",
       "  </thead>\n",
       "  <tbody>\n",
       "    <tr>\n",
       "      <th>0</th>\n",
       "      <td>42.0</td>\n",
       "      <td>299.0</td>\n",
       "      <td>509305.0</td>\n",
       "      <td>40394.91</td>\n",
       "      <td>False</td>\n",
       "      <td>False</td>\n",
       "      <td>False</td>\n",
       "      <td>False</td>\n",
       "      <td>False</td>\n",
       "      <td>False</td>\n",
       "      <td>...</td>\n",
       "      <td>False</td>\n",
       "      <td>False</td>\n",
       "      <td>False</td>\n",
       "      <td>False</td>\n",
       "      <td>False</td>\n",
       "      <td>False</td>\n",
       "      <td>False</td>\n",
       "      <td>False</td>\n",
       "      <td>True</td>\n",
       "      <td>False</td>\n",
       "    </tr>\n",
       "    <tr>\n",
       "      <th>1</th>\n",
       "      <td>54.0</td>\n",
       "      <td>109.0</td>\n",
       "      <td>965853.0</td>\n",
       "      <td>8687.90</td>\n",
       "      <td>False</td>\n",
       "      <td>False</td>\n",
       "      <td>False</td>\n",
       "      <td>False</td>\n",
       "      <td>False</td>\n",
       "      <td>False</td>\n",
       "      <td>...</td>\n",
       "      <td>False</td>\n",
       "      <td>False</td>\n",
       "      <td>False</td>\n",
       "      <td>False</td>\n",
       "      <td>False</td>\n",
       "      <td>False</td>\n",
       "      <td>False</td>\n",
       "      <td>True</td>\n",
       "      <td>False</td>\n",
       "      <td>False</td>\n",
       "    </tr>\n",
       "    <tr>\n",
       "      <th>2</th>\n",
       "      <td>37.0</td>\n",
       "      <td>52.0</td>\n",
       "      <td>380906.0</td>\n",
       "      <td>44705.31</td>\n",
       "      <td>False</td>\n",
       "      <td>False</td>\n",
       "      <td>False</td>\n",
       "      <td>False</td>\n",
       "      <td>False</td>\n",
       "      <td>False</td>\n",
       "      <td>...</td>\n",
       "      <td>False</td>\n",
       "      <td>False</td>\n",
       "      <td>False</td>\n",
       "      <td>False</td>\n",
       "      <td>True</td>\n",
       "      <td>False</td>\n",
       "      <td>False</td>\n",
       "      <td>False</td>\n",
       "      <td>False</td>\n",
       "      <td>False</td>\n",
       "    </tr>\n",
       "    <tr>\n",
       "      <th>3</th>\n",
       "      <td>55.0</td>\n",
       "      <td>336.0</td>\n",
       "      <td>573171.0</td>\n",
       "      <td>32889.88</td>\n",
       "      <td>False</td>\n",
       "      <td>False</td>\n",
       "      <td>False</td>\n",
       "      <td>False</td>\n",
       "      <td>False</td>\n",
       "      <td>False</td>\n",
       "      <td>...</td>\n",
       "      <td>False</td>\n",
       "      <td>False</td>\n",
       "      <td>False</td>\n",
       "      <td>False</td>\n",
       "      <td>False</td>\n",
       "      <td>False</td>\n",
       "      <td>False</td>\n",
       "      <td>False</td>\n",
       "      <td>False</td>\n",
       "      <td>True</td>\n",
       "    </tr>\n",
       "    <tr>\n",
       "      <th>4</th>\n",
       "      <td>21.0</td>\n",
       "      <td>2.0</td>\n",
       "      <td>809470.0</td>\n",
       "      <td>6949.22</td>\n",
       "      <td>False</td>\n",
       "      <td>False</td>\n",
       "      <td>False</td>\n",
       "      <td>False</td>\n",
       "      <td>False</td>\n",
       "      <td>False</td>\n",
       "      <td>...</td>\n",
       "      <td>False</td>\n",
       "      <td>False</td>\n",
       "      <td>False</td>\n",
       "      <td>False</td>\n",
       "      <td>False</td>\n",
       "      <td>False</td>\n",
       "      <td>False</td>\n",
       "      <td>True</td>\n",
       "      <td>False</td>\n",
       "      <td>False</td>\n",
       "    </tr>\n",
       "    <tr>\n",
       "      <th>...</th>\n",
       "      <td>...</td>\n",
       "      <td>...</td>\n",
       "      <td>...</td>\n",
       "      <td>...</td>\n",
       "      <td>...</td>\n",
       "      <td>...</td>\n",
       "      <td>...</td>\n",
       "      <td>...</td>\n",
       "      <td>...</td>\n",
       "      <td>...</td>\n",
       "      <td>...</td>\n",
       "      <td>...</td>\n",
       "      <td>...</td>\n",
       "      <td>...</td>\n",
       "      <td>...</td>\n",
       "      <td>...</td>\n",
       "      <td>...</td>\n",
       "      <td>...</td>\n",
       "      <td>...</td>\n",
       "      <td>...</td>\n",
       "      <td>...</td>\n",
       "    </tr>\n",
       "    <tr>\n",
       "      <th>9995</th>\n",
       "      <td>63.0</td>\n",
       "      <td>339.0</td>\n",
       "      <td>715741.0</td>\n",
       "      <td>19710.18</td>\n",
       "      <td>False</td>\n",
       "      <td>False</td>\n",
       "      <td>False</td>\n",
       "      <td>False</td>\n",
       "      <td>False</td>\n",
       "      <td>False</td>\n",
       "      <td>...</td>\n",
       "      <td>False</td>\n",
       "      <td>False</td>\n",
       "      <td>False</td>\n",
       "      <td>False</td>\n",
       "      <td>False</td>\n",
       "      <td>False</td>\n",
       "      <td>True</td>\n",
       "      <td>False</td>\n",
       "      <td>False</td>\n",
       "      <td>False</td>\n",
       "    </tr>\n",
       "    <tr>\n",
       "      <th>9996</th>\n",
       "      <td>45.0</td>\n",
       "      <td>81.0</td>\n",
       "      <td>786768.0</td>\n",
       "      <td>47797.76</td>\n",
       "      <td>False</td>\n",
       "      <td>False</td>\n",
       "      <td>False</td>\n",
       "      <td>False</td>\n",
       "      <td>False</td>\n",
       "      <td>False</td>\n",
       "      <td>...</td>\n",
       "      <td>False</td>\n",
       "      <td>False</td>\n",
       "      <td>False</td>\n",
       "      <td>False</td>\n",
       "      <td>True</td>\n",
       "      <td>False</td>\n",
       "      <td>False</td>\n",
       "      <td>False</td>\n",
       "      <td>False</td>\n",
       "      <td>False</td>\n",
       "    </tr>\n",
       "    <tr>\n",
       "      <th>9997</th>\n",
       "      <td>27.0</td>\n",
       "      <td>130.0</td>\n",
       "      <td>99170.0</td>\n",
       "      <td>35058.91</td>\n",
       "      <td>False</td>\n",
       "      <td>False</td>\n",
       "      <td>False</td>\n",
       "      <td>False</td>\n",
       "      <td>False</td>\n",
       "      <td>False</td>\n",
       "      <td>...</td>\n",
       "      <td>False</td>\n",
       "      <td>False</td>\n",
       "      <td>False</td>\n",
       "      <td>False</td>\n",
       "      <td>False</td>\n",
       "      <td>False</td>\n",
       "      <td>False</td>\n",
       "      <td>False</td>\n",
       "      <td>True</td>\n",
       "      <td>False</td>\n",
       "    </tr>\n",
       "    <tr>\n",
       "      <th>9998</th>\n",
       "      <td>68.0</td>\n",
       "      <td>215.0</td>\n",
       "      <td>640764.0</td>\n",
       "      <td>21176.71</td>\n",
       "      <td>False</td>\n",
       "      <td>False</td>\n",
       "      <td>False</td>\n",
       "      <td>False</td>\n",
       "      <td>False</td>\n",
       "      <td>False</td>\n",
       "      <td>...</td>\n",
       "      <td>False</td>\n",
       "      <td>False</td>\n",
       "      <td>False</td>\n",
       "      <td>False</td>\n",
       "      <td>False</td>\n",
       "      <td>False</td>\n",
       "      <td>False</td>\n",
       "      <td>True</td>\n",
       "      <td>False</td>\n",
       "      <td>False</td>\n",
       "    </tr>\n",
       "    <tr>\n",
       "      <th>9999</th>\n",
       "      <td>69.0</td>\n",
       "      <td>215.0</td>\n",
       "      <td>640764.0</td>\n",
       "      <td>21177.71</td>\n",
       "      <td>False</td>\n",
       "      <td>False</td>\n",
       "      <td>False</td>\n",
       "      <td>False</td>\n",
       "      <td>False</td>\n",
       "      <td>False</td>\n",
       "      <td>...</td>\n",
       "      <td>False</td>\n",
       "      <td>False</td>\n",
       "      <td>False</td>\n",
       "      <td>False</td>\n",
       "      <td>False</td>\n",
       "      <td>False</td>\n",
       "      <td>False</td>\n",
       "      <td>True</td>\n",
       "      <td>False</td>\n",
       "      <td>False</td>\n",
       "    </tr>\n",
       "  </tbody>\n",
       "</table>\n",
       "<p>9090 rows × 111 columns</p>\n",
       "</div>"
      ],
      "text/plain": [
       "       age  performance        km     price  color_Aquamarine  color_Black  \\\n",
       "0     42.0        299.0  509305.0  40394.91             False        False   \n",
       "1     54.0        109.0  965853.0   8687.90             False        False   \n",
       "2     37.0         52.0  380906.0  44705.31             False        False   \n",
       "3     55.0        336.0  573171.0  32889.88             False        False   \n",
       "4     21.0          2.0  809470.0   6949.22             False        False   \n",
       "...    ...          ...       ...       ...               ...          ...   \n",
       "9995  63.0        339.0  715741.0  19710.18             False        False   \n",
       "9996  45.0         81.0  786768.0  47797.76             False        False   \n",
       "9997  27.0        130.0   99170.0  35058.91             False        False   \n",
       "9998  68.0        215.0  640764.0  21176.71             False        False   \n",
       "9999  69.0        215.0  640764.0  21177.71             False        False   \n",
       "\n",
       "      color_Blue  color_Crimson  color_Fuscia  color_Goldenrod  ...  \\\n",
       "0          False          False         False            False  ...   \n",
       "1          False          False         False            False  ...   \n",
       "2          False          False         False            False  ...   \n",
       "3          False          False         False            False  ...   \n",
       "4          False          False         False            False  ...   \n",
       "...          ...            ...           ...              ...  ...   \n",
       "9995       False          False         False            False  ...   \n",
       "9996       False          False         False            False  ...   \n",
       "9997       False          False         False            False  ...   \n",
       "9998       False          False         False            False  ...   \n",
       "9999       False          False         False            False  ...   \n",
       "\n",
       "      model_Versa  model_Wingroad  model_X-Trail  model_Xterra  condition_bad  \\\n",
       "0           False           False          False         False          False   \n",
       "1           False           False          False         False          False   \n",
       "2           False           False          False         False           True   \n",
       "3           False           False          False         False          False   \n",
       "4           False           False          False         False          False   \n",
       "...           ...             ...            ...           ...            ...   \n",
       "9995        False           False          False         False          False   \n",
       "9996        False           False          False         False           True   \n",
       "9997        False           False          False         False          False   \n",
       "9998        False           False          False         False          False   \n",
       "9999        False           False          False         False          False   \n",
       "\n",
       "      condition_good  condition_new  condition_old  condition_very bad  \\\n",
       "0              False          False          False                True   \n",
       "1              False          False           True               False   \n",
       "2              False          False          False               False   \n",
       "3              False          False          False               False   \n",
       "4              False          False           True               False   \n",
       "...              ...            ...            ...                 ...   \n",
       "9995           False           True          False               False   \n",
       "9996           False          False          False               False   \n",
       "9997           False          False          False                True   \n",
       "9998           False          False           True               False   \n",
       "9999           False          False           True               False   \n",
       "\n",
       "      condition_very good  \n",
       "0                   False  \n",
       "1                   False  \n",
       "2                   False  \n",
       "3                    True  \n",
       "4                   False  \n",
       "...                   ...  \n",
       "9995                False  \n",
       "9996                False  \n",
       "9997                False  \n",
       "9998                False  \n",
       "9999                False  \n",
       "\n",
       "[9090 rows x 111 columns]"
      ]
     },
     "execution_count": 23,
     "metadata": {},
     "output_type": "execute_result"
    }
   ],
   "source": [
    "#convertimos las columnas categoricas con dummies \n",
    "cod_df = pd.get_dummies(data, columns=['color', 'gender', 'model', 'condition'])\n",
    "cod_df\n"
   ]
  },
  {
   "cell_type": "code",
   "execution_count": 24,
   "metadata": {},
   "outputs": [
    {
     "name": "stdout",
     "output_type": "stream",
     "text": [
      "Index(['age', 'performance', 'km', 'price', 'color_Aquamarine', 'color_Black',\n",
      "       'color_Blue', 'color_Crimson', 'color_Fuscia', 'color_Goldenrod',\n",
      "       ...\n",
      "       'model_Versa', 'model_Wingroad', 'model_X-Trail', 'model_Xterra',\n",
      "       'condition_bad', 'condition_good', 'condition_new', 'condition_old',\n",
      "       'condition_very bad', 'condition_very good'],\n",
      "      dtype='object', length=111)\n"
     ]
    }
   ],
   "source": [
    "print(cod_df.columns)"
   ]
  }
 ],
 "metadata": {
  "kernelspec": {
   "display_name": "Python 3",
   "language": "python",
   "name": "python3"
  },
  "language_info": {
   "codemirror_mode": {
    "name": "ipython",
    "version": 3
   },
   "file_extension": ".py",
   "mimetype": "text/x-python",
   "name": "python",
   "nbconvert_exporter": "python",
   "pygments_lexer": "ipython3",
   "version": "3.12.5"
  }
 },
 "nbformat": 4,
 "nbformat_minor": 2
}
